{
 "cells": [
  {
   "cell_type": "code",
   "execution_count": 1,
   "id": "4bb61c6b-0d73-4474-98aa-b5024f45e117",
   "metadata": {
    "tags": []
   },
   "outputs": [],
   "source": [
    "# Week 6 Hands-on Lab: Create your Jupyter Notebook"
   ]
  },
  {
   "cell_type": "code",
   "execution_count": 2,
   "id": "6899e813-ae56-4657-ba10-673515054d92",
   "metadata": {},
   "outputs": [],
   "source": [
    "# Exercise 2: Create markdown cell with title of the notebook"
   ]
  },
  {
   "cell_type": "markdown",
   "id": "edb269bb-5a1b-4208-80a7-896c6b6a4d38",
   "metadata": {
    "tags": []
   },
   "source": [
    "# Data Science Tools and Ecosystem"
   ]
  },
  {
   "cell_type": "code",
   "execution_count": 3,
   "id": "76995e34-45fd-4cdb-a445-81174dc6ed7a",
   "metadata": {},
   "outputs": [],
   "source": [
    "# Exercise 3 - Create a markdown cell for an introduction"
   ]
  },
  {
   "cell_type": "markdown",
   "id": "e44dd716-1acf-4935-830e-7a820387383c",
   "metadata": {},
   "source": [
    "In this notebook, Data Science Tools and Ecosystem are summarized."
   ]
  },
  {
   "cell_type": "code",
   "execution_count": 4,
   "id": "616a3b39-c7de-4ceb-b411-c4b025cba3cb",
   "metadata": {},
   "outputs": [],
   "source": [
    "# Exercise 10 - Insert a markdown cell to list Objectives"
   ]
  },
  {
   "cell_type": "markdown",
   "id": "3e2dae03-cc21-4889-b1c3-8488d102e6e7",
   "metadata": {},
   "source": [
    "**Objectives:**\n",
    "* List popular languages that Data Scientists use  \n",
    "* List libraries used by Data Scientists  \n",
    "* List common Data Science Tools  "
   ]
  },
  {
   "cell_type": "code",
   "execution_count": 5,
   "id": "54c83aab-912b-4192-8d85-61a36dc0c04f",
   "metadata": {},
   "outputs": [],
   "source": [
    "# Exercise 4 - Create a markdown cell to list data science languages"
   ]
  },
  {
   "cell_type": "markdown",
   "id": "44165cd8-3d0c-48db-850e-464385399c43",
   "metadata": {},
   "source": [
    "Some of the popular languages that Data Scientists use are:  \n",
    "* Python  \n",
    "* R  \n",
    "* SQL  \n",
    "* Java  \n",
    "* Scala  \n",
    "* C++  \n",
    "* JavaScript  \n",
    "* Julia  "
   ]
  },
  {
   "cell_type": "code",
   "execution_count": 6,
   "id": "1a3fadb5-2df9-4342-866a-99efb2a0bfa0",
   "metadata": {},
   "outputs": [],
   "source": [
    "# Exercise 5 - Create a markdown cell to list data science libraries"
   ]
  },
  {
   "cell_type": "markdown",
   "id": "a10178ab-f0af-4339-9a4f-6997693c016d",
   "metadata": {},
   "source": [
    "Some of the commonly used libraries used by Data Scientists include:\n",
    "Scientific Computing Libraries in Python:\n",
    "* Pandas  \n",
    "* NumPy  \n",
    "\n",
    "Visualization libraries in Python:\n",
    "* Matplotlib  \n",
    "* Seaborn  \n",
    "\n",
    "High-level machine learning and deep learning libraries:\n",
    "* Scikit-learn   \n",
    "* Keras  \n",
    "* TensorFlow  \n",
    "* Pytorch  "
   ]
  },
  {
   "cell_type": "code",
   "execution_count": 7,
   "id": "4ecdb27c-7747-4422-99ae-3de18b3d2eb7",
   "metadata": {},
   "outputs": [],
   "source": [
    "# Exercise 6 - Create a markdown cell with a table of Data Science tools"
   ]
  },
  {
   "cell_type": "markdown",
   "id": "83235c10-fdb6-4c6f-b47a-d659247ce404",
   "metadata": {
    "tags": []
   },
   "source": [
    "Common Data Science tools include:\n",
    "|Data Science Tools|\n",
    "|------------------|\n",
    "|Hadoop|\n",
    "|Spark|\n",
    "|Kafka|\n",
    "|Tableau|\n",
    "|PowerBI|\n",
    "|GitHub|"
   ]
  },
  {
   "cell_type": "code",
   "execution_count": 8,
   "id": "6b2da906-ff4a-4772-bce2-7c2646f17098",
   "metadata": {},
   "outputs": [],
   "source": [
    "# Exercise 7 - Create a markdown cell introducing arithmetic expression examples"
   ]
  },
  {
   "cell_type": "code",
   "execution_count": 9,
   "id": "3cccfb40-a2dd-436f-8be1-15aabdb875fc",
   "metadata": {},
   "outputs": [],
   "source": [
    "### Below are a few examples of evaluating arithmetic expressions in Python."
   ]
  },
  {
   "cell_type": "code",
   "execution_count": 10,
   "id": "c4b4be7b-05f6-46e3-a5d5-9ccc69996437",
   "metadata": {},
   "outputs": [
    {
     "data": {
      "text/plain": [
       "17"
      ]
     },
     "execution_count": 10,
     "metadata": {},
     "output_type": "execute_result"
    }
   ],
   "source": [
    "# This a simple arithmetic expression to multiply then add integers.\n",
    "(3*4)+5"
   ]
  },
  {
   "cell_type": "code",
   "execution_count": 11,
   "id": "124aed09-1b58-4d0c-92cc-ec8c3b94b7a8",
   "metadata": {},
   "outputs": [],
   "source": [
    "# Exercise 9 - Create a code cell to convert minutes to hours"
   ]
  },
  {
   "cell_type": "code",
   "execution_count": 12,
   "id": "810c058c-b35a-40fa-b0e6-fead3b6da169",
   "metadata": {
    "tags": []
   },
   "outputs": [
    {
     "data": {
      "text/plain": [
       "3.3333333333333335"
      ]
     },
     "execution_count": 12,
     "metadata": {},
     "output_type": "execute_result"
    }
   ],
   "source": [
    "# This will convert 200 minutes to hours by dividing by 60.\n",
    "200/60"
   ]
  },
  {
   "cell_type": "code",
   "execution_count": 13,
   "id": "23dcf33a-c3a3-4e6d-99b8-784bcb11c8ca",
   "metadata": {},
   "outputs": [],
   "source": [
    "# Exercise 11 - Create a markdown cell to indicate the Author's name"
   ]
  },
  {
   "cell_type": "markdown",
   "id": "41a09908-9268-4cc0-bb10-851859f01573",
   "metadata": {},
   "source": [
    "## Author\n",
    "Tahnee Stone"
   ]
  }
 ],
 "metadata": {
  "kernelspec": {
   "display_name": "Python",
   "language": "python",
   "name": "conda-env-python-py"
  },
  "language_info": {
   "codemirror_mode": {
    "name": "ipython",
    "version": 3
   },
   "file_extension": ".py",
   "mimetype": "text/x-python",
   "name": "python",
   "nbconvert_exporter": "python",
   "pygments_lexer": "ipython3",
   "version": "3.7.12"
  }
 },
 "nbformat": 4,
 "nbformat_minor": 5
}
